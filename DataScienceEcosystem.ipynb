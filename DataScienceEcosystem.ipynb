{
 "cells": [
  {
   "cell_type": "markdown",
   "id": "1f931b8d-4c68-4d3a-ad9d-8982c67d0316",
   "metadata": {},
   "source": [
    "# Data Science Tools and Ecosystem"
   ]
  },
  {
   "cell_type": "markdown",
   "id": "244ab59f-eeeb-44b0-9e26-7baa7544054b",
   "metadata": {},
   "source": [
    "In this notebook, Data Science Tools and Ecosystem are summarized.\r\n"
   ]
  },
  {
   "cell_type": "markdown",
   "id": "f7836475-4ae3-44cb-875e-db90071ca9cb",
   "metadata": {},
   "source": [
    "Some of the popular languages that Data Scientists use are:\r\n",
    "\r\n",
    "1. Python\r\n",
    "2. R\r\n",
    "3. Julia\r\n"
   ]
  },
  {
   "cell_type": "markdown",
   "id": "6f1fcf09-7655-4a46-8de2-2c2eeac67715",
   "metadata": {},
   "source": [
    "Some of the commonly used libraries used by Data Scientists include:\r\n",
    "\r\n",
    "1. Pandas\r\n",
    "2. NumPy\r\n",
    "3. Matplotlib\r\n"
   ]
  },
  {
   "cell_type": "markdown",
   "id": "bcd331ad-1840-43f5-84f4-2fdd25253178",
   "metadata": {},
   "source": [
    "| **Data Science Tools** |\n",
    "|------------------------|\n",
    "| Jupyter Notebook       |\n",
    "| RStudio                |\n",
    "| Visual Studio Code     |"
   ]
  },
  {
   "cell_type": "markdown",
   "id": "13a663f6-c6ac-45dc-aa2c-9a23a1efda2e",
   "metadata": {},
   "source": [
    "### Below are a few examples of evaluating arithmetic expressions in Python.\r\n"
   ]
  },
  {
   "cell_type": "code",
   "execution_count": 2,
   "id": "ee49b111-123f-4058-90b7-8095ecdee47a",
   "metadata": {},
   "outputs": [
    {
     "data": {
      "text/plain": [
       "17"
      ]
     },
     "execution_count": 2,
     "metadata": {},
     "output_type": "execute_result"
    }
   ],
   "source": [
    "# This is a simple arithmetic expression to multiply then add integers\n",
    "result = (3 * 4) + 5\n",
    "result\n"
   ]
  },
  {
   "cell_type": "code",
   "execution_count": 3,
   "id": "6aa7bc69-cdaa-4cef-9fee-3cde64101a5a",
   "metadata": {},
   "outputs": [
    {
     "data": {
      "text/plain": [
       "3.3333333333333335"
      ]
     },
     "execution_count": 3,
     "metadata": {},
     "output_type": "execute_result"
    }
   ],
   "source": [
    "# This will convert 200 minutes to hours by dividing by 60\n",
    "minutes = 200\n",
    "hours = minutes / 60\n",
    "hours\n"
   ]
  },
  {
   "cell_type": "markdown",
   "id": "065578b1-1025-44c5-bca8-add9058e46d2",
   "metadata": {},
   "source": [
    "**Objectives:**\r\n",
    "\r\n",
    "- List popular languages for Data Science.\r\n",
    "- Explore commonly used Data Science libraries.\r\n",
    "- Introduce arithmetic expressions and their evaluation.\r\n"
   ]
  },
  {
   "cell_type": "markdown",
   "id": "f485c0d2-dc1a-45e7-bf99-783310a9e0a0",
   "metadata": {},
   "source": [
    "## Author\n",
    "Sufian Adnan"
   ]
  },
  {
   "cell_type": "code",
   "execution_count": 9,
   "id": "4a60e1fe-1e53-4a87-b8ed-3334047a69be",
   "metadata": {},
   "outputs": [
    {
     "data": {
      "text/plain": [
       "'C:\\\\Users\\\\cools'"
      ]
     },
     "execution_count": 9,
     "metadata": {},
     "output_type": "execute_result"
    }
   ],
   "source": [
    "import os\n",
    "os.path.abspath(\"\")"
   ]
  },
  {
   "cell_type": "code",
   "execution_count": null,
   "id": "6b12a39b-b6a3-4182-825a-ed966d094fb7",
   "metadata": {},
   "outputs": [],
   "source": []
  }
 ],
 "metadata": {
  "kernelspec": {
   "display_name": "Python 3 (ipykernel)",
   "language": "python",
   "name": "python3"
  },
  "language_info": {
   "codemirror_mode": {
    "name": "ipython",
    "version": 3
   },
   "file_extension": ".py",
   "mimetype": "text/x-python",
   "name": "python",
   "nbconvert_exporter": "python",
   "pygments_lexer": "ipython3",
   "version": "3.9.13"
  }
 },
 "nbformat": 4,
 "nbformat_minor": 5
}
